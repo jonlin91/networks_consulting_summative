{
 "cells": [
  {
   "cell_type": "code",
   "execution_count": 175,
   "metadata": {},
   "outputs": [],
   "source": [
    "import pandas as pd\n",
    "import networkx as nx\n",
    "import numpy as np\n",
    "import matplotlib.pyplot as plt\n",
    "import collections\n",
    "import seaborn as sns\n",
    "# We shall also use two additional files  - credits to Andrew Elliott and Javier Pardo Diaz:\n",
    "# import extraNetwork\n",
    "import communityDetection as comDet\n",
    "import networkx.generators.community as nxc\n",
    "%matplotlib inline"
   ]
  },
  {
   "cell_type": "code",
   "execution_count": 176,
   "metadata": {},
   "outputs": [
    {
     "data": {
      "text/html": [
       "<div>\n",
       "<style scoped>\n",
       "    .dataframe tbody tr th:only-of-type {\n",
       "        vertical-align: middle;\n",
       "    }\n",
       "\n",
       "    .dataframe tbody tr th {\n",
       "        vertical-align: top;\n",
       "    }\n",
       "\n",
       "    .dataframe thead th {\n",
       "        text-align: right;\n",
       "    }\n",
       "</style>\n",
       "<table border=\"1\" class=\"dataframe\">\n",
       "  <thead>\n",
       "    <tr style=\"text-align: right;\">\n",
       "      <th></th>\n",
       "      <th>v1</th>\n",
       "      <th>v2</th>\n",
       "      <th>w</th>\n",
       "    </tr>\n",
       "  </thead>\n",
       "  <tbody>\n",
       "    <tr>\n",
       "      <th>0</th>\n",
       "      <td>1</td>\n",
       "      <td>3</td>\n",
       "      <td>5</td>\n",
       "    </tr>\n",
       "    <tr>\n",
       "      <th>1</th>\n",
       "      <td>1</td>\n",
       "      <td>8</td>\n",
       "      <td>3</td>\n",
       "    </tr>\n",
       "    <tr>\n",
       "      <th>2</th>\n",
       "      <td>1</td>\n",
       "      <td>9</td>\n",
       "      <td>3</td>\n",
       "    </tr>\n",
       "    <tr>\n",
       "      <th>3</th>\n",
       "      <td>1</td>\n",
       "      <td>12</td>\n",
       "      <td>3</td>\n",
       "    </tr>\n",
       "    <tr>\n",
       "      <th>4</th>\n",
       "      <td>1</td>\n",
       "      <td>15</td>\n",
       "      <td>2</td>\n",
       "    </tr>\n",
       "  </tbody>\n",
       "</table>\n",
       "</div>"
      ],
      "text/plain": [
       "   v1  v2  w\n",
       "0   1   3  5\n",
       "1   1   8  3\n",
       "2   1   9  3\n",
       "3   1  12  3\n",
       "4   1  15  2"
      ]
     },
     "metadata": {},
     "output_type": "display_data"
    }
   ],
   "source": [
    "#data: https://toreopsahl.com/datasets/#loaddatasets\n",
    "#This dataset contains an intra-organizational networks from a consulting company (46 employees) \n",
    "#These networks was used by Cross and Parker (2004).\n",
    "#In the first network, the ties are differentiated on a scale from 0 to 5 in terms of frequency of information or advice requests \n",
    "#“Please indicate how often you have turned to this person for information or advice on work-related topics in the past three months”\n",
    "#0: I Do Not Know This Person; \n",
    "#1: Never; \n",
    "#2: Seldom; \n",
    "#3: Sometimes; \n",
    "#4: Often;\n",
    "#5:Very Often.\n",
    "\n",
    "df = pd.read_csv('data/Cross_Parker-Consulting_info.txt',sep=' ',header=None)\n",
    "df = df.drop(columns=0).rename(columns = {1:'v1',2:'v2',3:'w'})\n",
    "\n",
    "#remove edges with w=1 (because it means they never use them)\n",
    "df = df[df['w']!=1]\n",
    "display(df.head())"
   ]
  },
  {
   "cell_type": "code",
   "execution_count": 177,
   "metadata": {},
   "outputs": [
    {
     "data": {
      "text/html": [
       "<div>\n",
       "<style scoped>\n",
       "    .dataframe tbody tr th:only-of-type {\n",
       "        vertical-align: middle;\n",
       "    }\n",
       "\n",
       "    .dataframe tbody tr th {\n",
       "        vertical-align: top;\n",
       "    }\n",
       "\n",
       "    .dataframe thead th {\n",
       "        text-align: right;\n",
       "    }\n",
       "</style>\n",
       "<table border=\"1\" class=\"dataframe\">\n",
       "  <thead>\n",
       "    <tr style=\"text-align: right;\">\n",
       "      <th></th>\n",
       "      <th>gender</th>\n",
       "    </tr>\n",
       "  </thead>\n",
       "  <tbody>\n",
       "    <tr>\n",
       "      <th>0</th>\n",
       "      <td>male</td>\n",
       "    </tr>\n",
       "    <tr>\n",
       "      <th>1</th>\n",
       "      <td>male</td>\n",
       "    </tr>\n",
       "    <tr>\n",
       "      <th>2</th>\n",
       "      <td>female</td>\n",
       "    </tr>\n",
       "  </tbody>\n",
       "</table>\n",
       "</div>"
      ],
      "text/plain": [
       "   gender\n",
       "0    male\n",
       "1    male\n",
       "2  female"
      ]
     },
     "metadata": {},
     "output_type": "display_data"
    }
   ],
   "source": [
    "#attributes\n",
    "#gender (1: male; 2: female)\n",
    "gender = pd.read_csv('data/Cross_Parker-Consulting-gender.txt',sep=' ',header=None)\n",
    "gender = gender.drop(columns=46).transpose().rename(columns={0:'gender'})\n",
    "gender['gender'] = gender['gender'].apply(lambda x: 'male' if x==1 else 'female')\n",
    "display(gender.head(3))\n"
   ]
  },
  {
   "cell_type": "code",
   "execution_count": 178,
   "metadata": {},
   "outputs": [
    {
     "data": {
      "text/html": [
       "<div>\n",
       "<style scoped>\n",
       "    .dataframe tbody tr th:only-of-type {\n",
       "        vertical-align: middle;\n",
       "    }\n",
       "\n",
       "    .dataframe tbody tr th {\n",
       "        vertical-align: top;\n",
       "    }\n",
       "\n",
       "    .dataframe thead th {\n",
       "        text-align: right;\n",
       "    }\n",
       "</style>\n",
       "<table border=\"1\" class=\"dataframe\">\n",
       "  <thead>\n",
       "    <tr style=\"text-align: right;\">\n",
       "      <th></th>\n",
       "      <th>loc</th>\n",
       "    </tr>\n",
       "  </thead>\n",
       "  <tbody>\n",
       "    <tr>\n",
       "      <th>0</th>\n",
       "      <td>Paris</td>\n",
       "    </tr>\n",
       "    <tr>\n",
       "      <th>1</th>\n",
       "      <td>Boston</td>\n",
       "    </tr>\n",
       "    <tr>\n",
       "      <th>2</th>\n",
       "      <td>Copenhagen</td>\n",
       "    </tr>\n",
       "  </tbody>\n",
       "</table>\n",
       "</div>"
      ],
      "text/plain": [
       "          loc\n",
       "0       Paris\n",
       "1      Boston\n",
       "2  Copenhagen"
      ]
     },
     "metadata": {},
     "output_type": "display_data"
    }
   ],
   "source": [
    "#location\n",
    "#1: Boston; \n",
    "#2: London; \n",
    "#3: Paris; \n",
    "#4: Rome; \n",
    "#5: Madrid; \n",
    "#6: Oslo; \n",
    "#7: Copenhagen\n",
    "def location(x):\n",
    "    if x == 1:\n",
    "        name = 'Boston'\n",
    "    elif x == 2:\n",
    "        name = 'London'\n",
    "    elif x == 3:\n",
    "        name = 'Paris'\n",
    "    elif x == 4:\n",
    "        name = 'Rome'\n",
    "    elif x == 5:\n",
    "        name = 'Madrid'\n",
    "    elif x == 6:\n",
    "        name = 'Oslo'\n",
    "    else:\n",
    "        name = 'Copenhagen'\n",
    "    return name\n",
    "\n",
    "loc = pd.read_csv('data/Cross_Parker-Consulting-location.txt',sep=' ',header=None)\n",
    "loc = loc.drop(columns=46).transpose().rename(columns={0:'loc'})\n",
    "loc['loc'] = loc['loc'].apply(lambda x: location(x))\n",
    "display(loc.head(3))\n"
   ]
  },
  {
   "cell_type": "code",
   "execution_count": 179,
   "metadata": {},
   "outputs": [
    {
     "data": {
      "text/html": [
       "<div>\n",
       "<style scoped>\n",
       "    .dataframe tbody tr th:only-of-type {\n",
       "        vertical-align: middle;\n",
       "    }\n",
       "\n",
       "    .dataframe tbody tr th {\n",
       "        vertical-align: top;\n",
       "    }\n",
       "\n",
       "    .dataframe thead th {\n",
       "        text-align: right;\n",
       "    }\n",
       "</style>\n",
       "<table border=\"1\" class=\"dataframe\">\n",
       "  <thead>\n",
       "    <tr style=\"text-align: right;\">\n",
       "      <th></th>\n",
       "      <th>org</th>\n",
       "    </tr>\n",
       "  </thead>\n",
       "  <tbody>\n",
       "    <tr>\n",
       "      <th>0</th>\n",
       "      <td>3. Senior Consultant</td>\n",
       "    </tr>\n",
       "    <tr>\n",
       "      <th>1</th>\n",
       "      <td>4. Managing Consultant</td>\n",
       "    </tr>\n",
       "    <tr>\n",
       "      <th>2</th>\n",
       "      <td>1. Research Assistant</td>\n",
       "    </tr>\n",
       "  </tbody>\n",
       "</table>\n",
       "</div>"
      ],
      "text/plain": [
       "                      org\n",
       "0    3. Senior Consultant\n",
       "1  4. Managing Consultant\n",
       "2   1. Research Assistant"
      ]
     },
     "metadata": {},
     "output_type": "display_data"
    }
   ],
   "source": [
    "#organisational level \n",
    "#1 Research Assistant; \n",
    "#2: Junior Consultant; \n",
    "#3: Senior Consultant; \n",
    "#4: Managing Consultant; \n",
    "#5: Partner, \n",
    "\n",
    "def orglevel(x):\n",
    "    if x == 1:\n",
    "        level = '1. Research Assistant'\n",
    "    elif x == 2:\n",
    "        level = '2. Junior Consultant'\n",
    "    elif x == 3:\n",
    "        level = '3. Senior Consultant'\n",
    "    elif x == 4:\n",
    "        level = '4. Managing Consultant'\n",
    "    else:\n",
    "        level = '5. Partner'\n",
    "    return level\n",
    "\n",
    "org = pd.read_csv('data/Cross_Parker-Consulting-orglevel.txt',sep=' ',header=None)\n",
    "org = org.drop(columns=46).transpose().rename(columns={0:'org'})\n",
    "org['org'] = org['org'].apply(lambda x: orglevel(x))\n",
    "display(org.head(3))\n"
   ]
  },
  {
   "cell_type": "code",
   "execution_count": 180,
   "metadata": {},
   "outputs": [
    {
     "data": {
      "text/html": [
       "<div>\n",
       "<style scoped>\n",
       "    .dataframe tbody tr th:only-of-type {\n",
       "        vertical-align: middle;\n",
       "    }\n",
       "\n",
       "    .dataframe tbody tr th {\n",
       "        vertical-align: top;\n",
       "    }\n",
       "\n",
       "    .dataframe thead th {\n",
       "        text-align: right;\n",
       "    }\n",
       "</style>\n",
       "<table border=\"1\" class=\"dataframe\">\n",
       "  <thead>\n",
       "    <tr style=\"text-align: right;\">\n",
       "      <th></th>\n",
       "      <th>reg</th>\n",
       "    </tr>\n",
       "  </thead>\n",
       "  <tbody>\n",
       "    <tr>\n",
       "      <th>0</th>\n",
       "      <td>Europe</td>\n",
       "    </tr>\n",
       "    <tr>\n",
       "      <th>1</th>\n",
       "      <td>USA</td>\n",
       "    </tr>\n",
       "    <tr>\n",
       "      <th>2</th>\n",
       "      <td>Europe</td>\n",
       "    </tr>\n",
       "  </tbody>\n",
       "</table>\n",
       "</div>"
      ],
      "text/plain": [
       "      reg\n",
       "0  Europe\n",
       "1     USA\n",
       "2  Europe"
      ]
     },
     "metadata": {},
     "output_type": "display_data"
    }
   ],
   "source": [
    "# region \n",
    "#1: Europe; \n",
    "#2: USA\n",
    "reg = pd.read_csv('data/Cross_Parker-Consulting-region.txt',sep=' ',header=None)\n",
    "reg = reg.drop(columns=46).transpose().rename(columns={0:'reg'})\n",
    "reg['reg'] = reg['reg'].apply(lambda x: 'Europe' if x==1 else 'USA')\n",
    "display(reg.head(3))\n"
   ]
  },
  {
   "cell_type": "code",
   "execution_count": 181,
   "metadata": {},
   "outputs": [
    {
     "data": {
      "text/html": [
       "<div>\n",
       "<style scoped>\n",
       "    .dataframe tbody tr th:only-of-type {\n",
       "        vertical-align: middle;\n",
       "    }\n",
       "\n",
       "    .dataframe tbody tr th {\n",
       "        vertical-align: top;\n",
       "    }\n",
       "\n",
       "    .dataframe thead th {\n",
       "        text-align: right;\n",
       "    }\n",
       "</style>\n",
       "<table border=\"1\" class=\"dataframe\">\n",
       "  <thead>\n",
       "    <tr style=\"text-align: right;\">\n",
       "      <th></th>\n",
       "      <th>gender</th>\n",
       "      <th>loc</th>\n",
       "      <th>reg</th>\n",
       "      <th>org</th>\n",
       "      <th>v</th>\n",
       "    </tr>\n",
       "  </thead>\n",
       "  <tbody>\n",
       "    <tr>\n",
       "      <th>0</th>\n",
       "      <td>male</td>\n",
       "      <td>Paris</td>\n",
       "      <td>Europe</td>\n",
       "      <td>3. Senior Consultant</td>\n",
       "      <td>1</td>\n",
       "    </tr>\n",
       "    <tr>\n",
       "      <th>1</th>\n",
       "      <td>male</td>\n",
       "      <td>Boston</td>\n",
       "      <td>USA</td>\n",
       "      <td>4. Managing Consultant</td>\n",
       "      <td>2</td>\n",
       "    </tr>\n",
       "    <tr>\n",
       "      <th>2</th>\n",
       "      <td>female</td>\n",
       "      <td>Copenhagen</td>\n",
       "      <td>Europe</td>\n",
       "      <td>1. Research Assistant</td>\n",
       "      <td>3</td>\n",
       "    </tr>\n",
       "    <tr>\n",
       "      <th>3</th>\n",
       "      <td>male</td>\n",
       "      <td>Rome</td>\n",
       "      <td>Europe</td>\n",
       "      <td>4. Managing Consultant</td>\n",
       "      <td>4</td>\n",
       "    </tr>\n",
       "    <tr>\n",
       "      <th>4</th>\n",
       "      <td>male</td>\n",
       "      <td>Boston</td>\n",
       "      <td>USA</td>\n",
       "      <td>4. Managing Consultant</td>\n",
       "      <td>5</td>\n",
       "    </tr>\n",
       "  </tbody>\n",
       "</table>\n",
       "</div>"
      ],
      "text/plain": [
       "   gender         loc     reg                     org  v\n",
       "0    male       Paris  Europe    3. Senior Consultant  1\n",
       "1    male      Boston     USA  4. Managing Consultant  2\n",
       "2  female  Copenhagen  Europe   1. Research Assistant  3\n",
       "3    male        Rome  Europe  4. Managing Consultant  4\n",
       "4    male      Boston     USA  4. Managing Consultant  5"
      ]
     },
     "metadata": {},
     "output_type": "display_data"
    }
   ],
   "source": [
    "#merge these attributes together to create vertex list too\n",
    "nodes = pd.concat([gender,loc,reg,org], axis=1)\n",
    "nodes['v'] = nodes.index + 1\n",
    "v = set(nodes['v'])\n",
    "display(nodes.head())"
   ]
  },
  {
   "cell_type": "markdown",
   "metadata": {},
   "source": [
    "# Descriptive Statistics"
   ]
  },
  {
   "cell_type": "code",
   "execution_count": 182,
   "metadata": {},
   "outputs": [
    {
     "name": "stdout",
     "output_type": "stream",
     "text": [
      "Number of vertices: 46\n",
      "Number of edges: 523\n"
     ]
    }
   ],
   "source": [
    "print('Number of vertices:', len(v))\n",
    "print('Number of edges:', len(df))"
   ]
  },
  {
   "cell_type": "code",
   "execution_count": 183,
   "metadata": {},
   "outputs": [
    {
     "data": {
      "image/png": "[encoded data removed]",
      "text/plain": [
       "<Figure size 432x288 with 1 Axes>"
      ]
     },
     "metadata": {
      "needs_background": "light"
     },
     "output_type": "display_data"
    }
   ],
   "source": [
    "ax = sns.countplot(x=\"reg\", data=nodes, order = nodes['reg'].value_counts().index)\n",
    "plt.xlabel('Region')\n",
    "plt.ylabel('Count')\n",
    "plt.savefig('figs/region.png')\n",
    "plt.show()"
   ]
  },
  {
   "cell_type": "code",
   "execution_count": 184,
   "metadata": {},
   "outputs": [
    {
     "data": {
      "image/png": "[encoded data removed]",
      "text/plain": [
       "<Figure size 432x288 with 1 Axes>"
      ]
     },
     "metadata": {
      "needs_background": "light"
     },
     "output_type": "display_data"
    }
   ],
   "source": [
    "#bar charts\n",
    "ax = sns.countplot(x=\"gender\", data=nodes)"
   ]
  },
  {
   "cell_type": "code",
   "execution_count": 185,
   "metadata": {},
   "outputs": [
    {
     "data": {
      "image/png": "[encoded data removed]",
      "text/plain": [
       "<Figure size 432x288 with 1 Axes>"
      ]
     },
     "metadata": {
      "needs_background": "light"
     },
     "output_type": "display_data"
    }
   ],
   "source": [
    "ax = sns.countplot(x=\"loc\", data=nodes, order = nodes['loc'].value_counts().index)\n",
    "#majority is boston!"
   ]
  },
  {
   "cell_type": "code",
   "execution_count": 186,
   "metadata": {},
   "outputs": [
    {
     "data": {
      "image/png": "[encoded data removed]",
      "text/plain": [
       "<Figure size 432x288 with 1 Axes>"
      ]
     },
     "metadata": {
      "needs_background": "light"
     },
     "output_type": "display_data"
    }
   ],
   "source": [
    "ax = sns.countplot(x=\"org\", data=nodes, order = nodes['org'].value_counts().index)\n",
    "plt.xticks(rotation=30)\n",
    "plt.show()"
   ]
  },
  {
   "cell_type": "code",
   "execution_count": 187,
   "metadata": {},
   "outputs": [
    {
     "data": {
      "text/plain": [
       "<matplotlib.axes._subplots.AxesSubplot at 0x1a1c188860>"
      ]
     },
     "execution_count": 187,
     "metadata": {},
     "output_type": "execute_result"
    },
    {
     "data": {
      "image/png": "[encoded data removed]",
      "text/plain": [
       "<Figure size 432x288 with 1 Axes>"
      ]
     },
     "metadata": {
      "needs_background": "light"
     },
     "output_type": "display_data"
    }
   ],
   "source": [
    "df['w'].hist()"
   ]
  },
  {
   "cell_type": "code",
   "execution_count": 189,
   "metadata": {},
   "outputs": [
    {
     "data": {
      "image/png": "[encoded data removed]",
      "text/plain": [
       "<Figure size 432x288 with 1 Axes>"
      ]
     },
     "metadata": {},
     "output_type": "display_data"
    }
   ],
   "source": [
    "# directed, unweighted graph\n",
    "G = nx.DiGraph()\n",
    "\n",
    "#ignore weights\n",
    "tuples = [tuple(x) for x in df[['v1','v2']].values]\n",
    "# G.add_weighted_edges_from(tuples)\n",
    "G.add_edges_from(tuples)\n",
    "G.add_nodes_from(v)\n",
    "\n",
    "nx.draw(G)"
   ]
  },
  {
   "cell_type": "code",
   "execution_count": 119,
   "metadata": {},
   "outputs": [
    {
     "name": "stdout",
     "output_type": "stream",
     "text": [
      "ave in degree: 11.886363636363637\n",
      "ave out degree: 11.886363636363637\n"
     ]
    }
   ],
   "source": [
    "print('ave in degree:',sum(dict(G.in_degree()).values())/len(dict(G.in_degree()).values()))"
   ]
  },
  {
   "cell_type": "code",
   "execution_count": 113,
   "metadata": {},
   "outputs": [
    {
     "data": {
      "image/png": "[encoded data removed]",
      "text/plain": [
       "<Figure size 432x288 with 1 Axes>"
      ]
     },
     "metadata": {
      "needs_background": "light"
     },
     "output_type": "display_data"
    }
   ],
   "source": [
    "#degree distribution\n",
    "plt.hist(list(dict(G.in_degree()).values()),bins=range(25))\n",
    "plt.xlabel('In Degree')\n",
    "plt.ylabel('Count')\n",
    "plt.savefig('figs/indegree.png')\n",
    "plt.show()"
   ]
  },
  {
   "cell_type": "code",
   "execution_count": 190,
   "metadata": {},
   "outputs": [
    {
     "data": {
      "image/png": "[encoded data removed]",
      "text/plain": [
       "<Figure size 432x288 with 1 Axes>"
      ]
     },
     "metadata": {
      "needs_background": "light"
     },
     "output_type": "display_data"
    }
   ],
   "source": [
    "plt.hist(list(dict(G.out_degree()).values()),bins=range(25))\n",
    "plt.xlabel('Out Degree')\n",
    "plt.ylabel('Count')\n",
    "plt.yticks(range(6))\n",
    "plt.savefig('figs/outdegree.png')\n",
    "plt.show()"
   ]
  },
  {
   "cell_type": "code",
   "execution_count": 195,
   "metadata": {},
   "outputs": [
    {
     "name": "stdout",
     "output_type": "stream",
     "text": [
      "0.33120346437251597\n"
     ]
    }
   ],
   "source": [
    "#Community detection\n",
    "\n",
    "#make graph undirected\n",
    "#For community detection we start with a connected network. To find the largest connected component of a graph use the following command:\n",
    "graph1=max(nx.connected_component_subgraphs(G.to_undirected()), key=len)\n",
    "\n",
    "graph1Bet = comDet.betweenComDetect(graph1)\n",
    "print(comDet.modularity(graph1,graph1Bet))"
   ]
  },
  {
   "cell_type": "code",
   "execution_count": 196,
   "metadata": {},
   "outputs": [
    {
     "name": "stdout",
     "output_type": "stream",
     "text": [
      "Number of communities in connected subgraph: 3\n",
      "Number of nodes disconnected: 2\n",
      "Disconnected nodes: {24, 30}\n"
     ]
    }
   ],
   "source": [
    "v1 = graph1Bet.keys()\n",
    "com = set(graph1Bet.values())\n",
    "missing_v = v-v1\n",
    "print('Number of communities in connected subgraph:',len(com))\n",
    "print('Number of nodes disconnected:',len(missing_v))\n",
    "print('Disconnected nodes:',missing_v)\n"
   ]
  },
  {
   "cell_type": "code",
   "execution_count": 197,
   "metadata": {},
   "outputs": [
    {
     "data": {
      "image/png": "[encoded data removed]",
      "text/plain": [
       "<Figure size 432x288 with 1 Axes>"
      ]
     },
     "metadata": {},
     "output_type": "display_data"
    }
   ],
   "source": [
    "#subgraph communities\n",
    "nx.draw_networkx(graph1,nodelist=v1,node_color=[graph1Bet[x] for x in v1])"
   ]
  },
  {
   "cell_type": "raw",
   "metadata": {},
   "source": [
    "#nodes missing in connected subgraph\n",
    "new_com = max(com) + 1\n",
    "graphBet = graph1Bet\n",
    "\n",
    "for n in missing_v:\n",
    "    graphBet[n] = new_com\n",
    "    print('Added node',n,'as community number',new_com)\n",
    "    new_com+=1\n",
    "    "
   ]
  },
  {
   "cell_type": "code",
   "execution_count": 198,
   "metadata": {},
   "outputs": [],
   "source": [
    "comm_tab = pd.DataFrame.from_dict(collections.Counter(graph1Bet.values()),orient='index')\n"
   ]
  },
  {
   "cell_type": "code",
   "execution_count": 199,
   "metadata": {},
   "outputs": [],
   "source": [
    "for v in missing_v:\n",
    "    G.remove_node(v)"
   ]
  },
  {
   "cell_type": "code",
   "execution_count": 200,
   "metadata": {},
   "outputs": [
    {
     "data": {
      "image/png": "[encoded data removed]",
      "text/plain": [
       "<Figure size 432x288 with 1 Axes>"
      ]
     },
     "metadata": {},
     "output_type": "display_data"
    }
   ],
   "source": [
    "nx.draw_networkx(G,nodelist=v1,node_color=[graph1Bet[x] for x in v1])"
   ]
  },
  {
   "cell_type": "code",
   "execution_count": 201,
   "metadata": {},
   "outputs": [
    {
     "data": {
      "text/html": [
       "<div>\n",
       "<style scoped>\n",
       "    .dataframe tbody tr th:only-of-type {\n",
       "        vertical-align: middle;\n",
       "    }\n",
       "\n",
       "    .dataframe tbody tr th {\n",
       "        vertical-align: top;\n",
       "    }\n",
       "\n",
       "    .dataframe thead th {\n",
       "        text-align: right;\n",
       "    }\n",
       "</style>\n",
       "<table border=\"1\" class=\"dataframe\">\n",
       "  <thead>\n",
       "    <tr style=\"text-align: right;\">\n",
       "      <th></th>\n",
       "      <th>v</th>\n",
       "      <th>community</th>\n",
       "    </tr>\n",
       "  </thead>\n",
       "  <tbody>\n",
       "    <tr>\n",
       "      <th>0</th>\n",
       "      <td>1</td>\n",
       "      <td>0</td>\n",
       "    </tr>\n",
       "    <tr>\n",
       "      <th>1</th>\n",
       "      <td>3</td>\n",
       "      <td>0</td>\n",
       "    </tr>\n",
       "    <tr>\n",
       "      <th>2</th>\n",
       "      <td>4</td>\n",
       "      <td>0</td>\n",
       "    </tr>\n",
       "    <tr>\n",
       "      <th>3</th>\n",
       "      <td>8</td>\n",
       "      <td>0</td>\n",
       "    </tr>\n",
       "    <tr>\n",
       "      <th>4</th>\n",
       "      <td>9</td>\n",
       "      <td>0</td>\n",
       "    </tr>\n",
       "  </tbody>\n",
       "</table>\n",
       "</div>"
      ],
      "text/plain": [
       "   v  community\n",
       "0  1          0\n",
       "1  3          0\n",
       "2  4          0\n",
       "3  8          0\n",
       "4  9          0"
      ]
     },
     "metadata": {},
     "output_type": "display_data"
    }
   ],
   "source": [
    "#merge the communities back to the nodes\n",
    "df_comm = pd.DataFrame.from_dict(graph1Bet, orient='index')\n",
    "df_comm = df_comm.reset_index().rename(columns = {0:'community','index':'v'})\n",
    "display(df_comm.head())"
   ]
  },
  {
   "cell_type": "code",
   "execution_count": 202,
   "metadata": {},
   "outputs": [],
   "source": [
    "nodes = nodes.merge(df_comm, on = 'v')"
   ]
  },
  {
   "cell_type": "code",
   "execution_count": 203,
   "metadata": {},
   "outputs": [
    {
     "data": {
      "text/html": [
       "<div>\n",
       "<style scoped>\n",
       "    .dataframe tbody tr th:only-of-type {\n",
       "        vertical-align: middle;\n",
       "    }\n",
       "\n",
       "    .dataframe tbody tr th {\n",
       "        vertical-align: top;\n",
       "    }\n",
       "\n",
       "    .dataframe thead th {\n",
       "        text-align: right;\n",
       "    }\n",
       "</style>\n",
       "<table border=\"1\" class=\"dataframe\">\n",
       "  <thead>\n",
       "    <tr style=\"text-align: right;\">\n",
       "      <th></th>\n",
       "      <th>gender</th>\n",
       "      <th>loc</th>\n",
       "      <th>reg</th>\n",
       "      <th>org</th>\n",
       "      <th>v</th>\n",
       "      <th>community</th>\n",
       "    </tr>\n",
       "  </thead>\n",
       "  <tbody>\n",
       "    <tr>\n",
       "      <th>0</th>\n",
       "      <td>male</td>\n",
       "      <td>Paris</td>\n",
       "      <td>Europe</td>\n",
       "      <td>3. Senior Consultant</td>\n",
       "      <td>1</td>\n",
       "      <td>0</td>\n",
       "    </tr>\n",
       "    <tr>\n",
       "      <th>1</th>\n",
       "      <td>male</td>\n",
       "      <td>Boston</td>\n",
       "      <td>USA</td>\n",
       "      <td>4. Managing Consultant</td>\n",
       "      <td>2</td>\n",
       "      <td>1</td>\n",
       "    </tr>\n",
       "    <tr>\n",
       "      <th>2</th>\n",
       "      <td>female</td>\n",
       "      <td>Copenhagen</td>\n",
       "      <td>Europe</td>\n",
       "      <td>1. Research Assistant</td>\n",
       "      <td>3</td>\n",
       "      <td>0</td>\n",
       "    </tr>\n",
       "    <tr>\n",
       "      <th>3</th>\n",
       "      <td>male</td>\n",
       "      <td>Rome</td>\n",
       "      <td>Europe</td>\n",
       "      <td>4. Managing Consultant</td>\n",
       "      <td>4</td>\n",
       "      <td>0</td>\n",
       "    </tr>\n",
       "    <tr>\n",
       "      <th>4</th>\n",
       "      <td>male</td>\n",
       "      <td>Boston</td>\n",
       "      <td>USA</td>\n",
       "      <td>4. Managing Consultant</td>\n",
       "      <td>5</td>\n",
       "      <td>1</td>\n",
       "    </tr>\n",
       "  </tbody>\n",
       "</table>\n",
       "</div>"
      ],
      "text/plain": [
       "   gender         loc     reg                     org  v  community\n",
       "0    male       Paris  Europe    3. Senior Consultant  1          0\n",
       "1    male      Boston     USA  4. Managing Consultant  2          1\n",
       "2  female  Copenhagen  Europe   1. Research Assistant  3          0\n",
       "3    male        Rome  Europe  4. Managing Consultant  4          0\n",
       "4    male      Boston     USA  4. Managing Consultant  5          1"
      ]
     },
     "metadata": {},
     "output_type": "display_data"
    }
   ],
   "source": [
    "display(nodes.head())"
   ]
  },
  {
   "cell_type": "code",
   "execution_count": 204,
   "metadata": {},
   "outputs": [],
   "source": [
    "df = df.merge(df_comm, left_on = 'v1', right_on = 'v')\n",
    "df = df.merge(df_comm, left_on = 'v2', right_on = 'v')"
   ]
  },
  {
   "cell_type": "code",
   "execution_count": 205,
   "metadata": {},
   "outputs": [
    {
     "data": {
      "text/html": [
       "<div>\n",
       "<style scoped>\n",
       "    .dataframe tbody tr th:only-of-type {\n",
       "        vertical-align: middle;\n",
       "    }\n",
       "\n",
       "    .dataframe tbody tr th {\n",
       "        vertical-align: top;\n",
       "    }\n",
       "\n",
       "    .dataframe thead th {\n",
       "        text-align: right;\n",
       "    }\n",
       "</style>\n",
       "<table border=\"1\" class=\"dataframe\">\n",
       "  <thead>\n",
       "    <tr style=\"text-align: right;\">\n",
       "      <th></th>\n",
       "      <th>v1</th>\n",
       "      <th>v2</th>\n",
       "      <th>w</th>\n",
       "      <th>community_x</th>\n",
       "      <th>community_y</th>\n",
       "    </tr>\n",
       "  </thead>\n",
       "  <tbody>\n",
       "    <tr>\n",
       "      <th>0</th>\n",
       "      <td>1</td>\n",
       "      <td>3</td>\n",
       "      <td>5</td>\n",
       "      <td>0</td>\n",
       "      <td>0</td>\n",
       "    </tr>\n",
       "    <tr>\n",
       "      <th>1</th>\n",
       "      <td>8</td>\n",
       "      <td>3</td>\n",
       "      <td>2</td>\n",
       "      <td>0</td>\n",
       "      <td>0</td>\n",
       "    </tr>\n",
       "    <tr>\n",
       "      <th>2</th>\n",
       "      <td>9</td>\n",
       "      <td>3</td>\n",
       "      <td>2</td>\n",
       "      <td>0</td>\n",
       "      <td>0</td>\n",
       "    </tr>\n",
       "    <tr>\n",
       "      <th>3</th>\n",
       "      <td>12</td>\n",
       "      <td>3</td>\n",
       "      <td>2</td>\n",
       "      <td>0</td>\n",
       "      <td>0</td>\n",
       "    </tr>\n",
       "    <tr>\n",
       "      <th>4</th>\n",
       "      <td>32</td>\n",
       "      <td>3</td>\n",
       "      <td>2</td>\n",
       "      <td>0</td>\n",
       "      <td>0</td>\n",
       "    </tr>\n",
       "  </tbody>\n",
       "</table>\n",
       "</div>"
      ],
      "text/plain": [
       "   v1  v2  w  community_x  community_y\n",
       "0   1   3  5            0            0\n",
       "1   8   3  2            0            0\n",
       "2   9   3  2            0            0\n",
       "3  12   3  2            0            0\n",
       "4  32   3  2            0            0"
      ]
     },
     "metadata": {},
     "output_type": "display_data"
    }
   ],
   "source": [
    "df = df.drop(columns = ['v_x','v_y'])\n",
    "display(df.head())"
   ]
  },
  {
   "cell_type": "code",
   "execution_count": 206,
   "metadata": {},
   "outputs": [
    {
     "data": {
      "text/html": [
       "<div>\n",
       "<style scoped>\n",
       "    .dataframe tbody tr th:only-of-type {\n",
       "        vertical-align: middle;\n",
       "    }\n",
       "\n",
       "    .dataframe tbody tr th {\n",
       "        vertical-align: top;\n",
       "    }\n",
       "\n",
       "    .dataframe thead th {\n",
       "        text-align: right;\n",
       "    }\n",
       "</style>\n",
       "<table border=\"1\" class=\"dataframe\">\n",
       "  <thead>\n",
       "    <tr style=\"text-align: right;\">\n",
       "      <th>gender</th>\n",
       "      <th>female</th>\n",
       "      <th>male</th>\n",
       "    </tr>\n",
       "    <tr>\n",
       "      <th>community</th>\n",
       "      <th></th>\n",
       "      <th></th>\n",
       "    </tr>\n",
       "  </thead>\n",
       "  <tbody>\n",
       "    <tr>\n",
       "      <th>0</th>\n",
       "      <td>0.210526</td>\n",
       "      <td>0.789474</td>\n",
       "    </tr>\n",
       "    <tr>\n",
       "      <th>1</th>\n",
       "      <td>0.250000</td>\n",
       "      <td>0.750000</td>\n",
       "    </tr>\n",
       "    <tr>\n",
       "      <th>2</th>\n",
       "      <td>0.000000</td>\n",
       "      <td>1.000000</td>\n",
       "    </tr>\n",
       "  </tbody>\n",
       "</table>\n",
       "</div>"
      ],
      "text/plain": [
       "gender       female      male\n",
       "community                    \n",
       "0          0.210526  0.789474\n",
       "1          0.250000  0.750000\n",
       "2          0.000000  1.000000"
      ]
     },
     "metadata": {},
     "output_type": "display_data"
    }
   ],
   "source": [
    "g = pd.crosstab(nodes['community'],nodes['gender'],normalize='index')\n",
    "g = g.rename(columns={1:'male',2:'female'})\n",
    "display(g)"
   ]
  },
  {
   "cell_type": "code",
   "execution_count": 207,
   "metadata": {},
   "outputs": [
    {
     "data": {
      "text/html": [
       "<div>\n",
       "<style scoped>\n",
       "    .dataframe tbody tr th:only-of-type {\n",
       "        vertical-align: middle;\n",
       "    }\n",
       "\n",
       "    .dataframe tbody tr th {\n",
       "        vertical-align: top;\n",
       "    }\n",
       "\n",
       "    .dataframe thead th {\n",
       "        text-align: right;\n",
       "    }\n",
       "</style>\n",
       "<table border=\"1\" class=\"dataframe\">\n",
       "  <thead>\n",
       "    <tr style=\"text-align: right;\">\n",
       "      <th>reg</th>\n",
       "      <th>Europe</th>\n",
       "      <th>USA</th>\n",
       "    </tr>\n",
       "    <tr>\n",
       "      <th>community</th>\n",
       "      <th></th>\n",
       "      <th></th>\n",
       "    </tr>\n",
       "  </thead>\n",
       "  <tbody>\n",
       "    <tr>\n",
       "      <th>0</th>\n",
       "      <td>1.0</td>\n",
       "      <td>0.0</td>\n",
       "    </tr>\n",
       "    <tr>\n",
       "      <th>1</th>\n",
       "      <td>0.0</td>\n",
       "      <td>1.0</td>\n",
       "    </tr>\n",
       "    <tr>\n",
       "      <th>2</th>\n",
       "      <td>1.0</td>\n",
       "      <td>0.0</td>\n",
       "    </tr>\n",
       "  </tbody>\n",
       "</table>\n",
       "</div>"
      ],
      "text/plain": [
       "reg        Europe  USA\n",
       "community             \n",
       "0             1.0  0.0\n",
       "1             0.0  1.0\n",
       "2             1.0  0.0"
      ]
     },
     "metadata": {},
     "output_type": "display_data"
    }
   ],
   "source": [
    "r = pd.crosstab(nodes['community'],nodes['reg'],normalize='index')\n",
    "r = r.rename(columns={1:'Europe',2:'USA'})\n",
    "display(r)"
   ]
  },
  {
   "cell_type": "code",
   "execution_count": 208,
   "metadata": {},
   "outputs": [
    {
     "data": {
      "text/html": [
       "<div>\n",
       "<style scoped>\n",
       "    .dataframe tbody tr th:only-of-type {\n",
       "        vertical-align: middle;\n",
       "    }\n",
       "\n",
       "    .dataframe tbody tr th {\n",
       "        vertical-align: top;\n",
       "    }\n",
       "\n",
       "    .dataframe thead th {\n",
       "        text-align: right;\n",
       "    }\n",
       "</style>\n",
       "<table border=\"1\" class=\"dataframe\">\n",
       "  <thead>\n",
       "    <tr style=\"text-align: right;\">\n",
       "      <th>org</th>\n",
       "      <th>1. Research Assistant</th>\n",
       "      <th>2. Junior Consultant</th>\n",
       "      <th>3. Senior Consultant</th>\n",
       "      <th>4. Managing Consultant</th>\n",
       "      <th>5. Partner</th>\n",
       "    </tr>\n",
       "    <tr>\n",
       "      <th>community</th>\n",
       "      <th></th>\n",
       "      <th></th>\n",
       "      <th></th>\n",
       "      <th></th>\n",
       "      <th></th>\n",
       "    </tr>\n",
       "  </thead>\n",
       "  <tbody>\n",
       "    <tr>\n",
       "      <th>0</th>\n",
       "      <td>0.105263</td>\n",
       "      <td>0.210526</td>\n",
       "      <td>0.157895</td>\n",
       "      <td>0.421053</td>\n",
       "      <td>0.105263</td>\n",
       "    </tr>\n",
       "    <tr>\n",
       "      <th>1</th>\n",
       "      <td>0.041667</td>\n",
       "      <td>0.208333</td>\n",
       "      <td>0.291667</td>\n",
       "      <td>0.375000</td>\n",
       "      <td>0.083333</td>\n",
       "    </tr>\n",
       "    <tr>\n",
       "      <th>2</th>\n",
       "      <td>1.000000</td>\n",
       "      <td>0.000000</td>\n",
       "      <td>0.000000</td>\n",
       "      <td>0.000000</td>\n",
       "      <td>0.000000</td>\n",
       "    </tr>\n",
       "  </tbody>\n",
       "</table>\n",
       "</div>"
      ],
      "text/plain": [
       "org        1. Research Assistant  2. Junior Consultant  3. Senior Consultant  \\\n",
       "community                                                                      \n",
       "0                       0.105263              0.210526              0.157895   \n",
       "1                       0.041667              0.208333              0.291667   \n",
       "2                       1.000000              0.000000              0.000000   \n",
       "\n",
       "org        4. Managing Consultant  5. Partner  \n",
       "community                                      \n",
       "0                        0.421053    0.105263  \n",
       "1                        0.375000    0.083333  \n",
       "2                        0.000000    0.000000  "
      ]
     },
     "metadata": {},
     "output_type": "display_data"
    }
   ],
   "source": [
    "o = pd.crosstab(nodes['community'],nodes['org'],normalize='index')\n",
    "o = o.rename(columns={1:'Research Assistant',2:'Junior Consultant', \n",
    "                      3:'Senior Consultant',4:'Managing Consultant',\n",
    "                      5:'Partner'})\n",
    "display(o)"
   ]
  },
  {
   "cell_type": "code",
   "execution_count": 209,
   "metadata": {},
   "outputs": [
    {
     "data": {
      "text/html": [
       "<div>\n",
       "<style scoped>\n",
       "    .dataframe tbody tr th:only-of-type {\n",
       "        vertical-align: middle;\n",
       "    }\n",
       "\n",
       "    .dataframe tbody tr th {\n",
       "        vertical-align: top;\n",
       "    }\n",
       "\n",
       "    .dataframe thead th {\n",
       "        text-align: right;\n",
       "    }\n",
       "</style>\n",
       "<table border=\"1\" class=\"dataframe\">\n",
       "  <thead>\n",
       "    <tr style=\"text-align: right;\">\n",
       "      <th>loc</th>\n",
       "      <th>Boston</th>\n",
       "      <th>Copenhagen</th>\n",
       "      <th>London</th>\n",
       "      <th>Madrid</th>\n",
       "      <th>Oslo</th>\n",
       "      <th>Paris</th>\n",
       "      <th>Rome</th>\n",
       "    </tr>\n",
       "    <tr>\n",
       "      <th>community</th>\n",
       "      <th></th>\n",
       "      <th></th>\n",
       "      <th></th>\n",
       "      <th></th>\n",
       "      <th></th>\n",
       "      <th></th>\n",
       "      <th></th>\n",
       "    </tr>\n",
       "  </thead>\n",
       "  <tbody>\n",
       "    <tr>\n",
       "      <th>0</th>\n",
       "      <td>0.0</td>\n",
       "      <td>0.157895</td>\n",
       "      <td>0.052632</td>\n",
       "      <td>0.052632</td>\n",
       "      <td>0.157895</td>\n",
       "      <td>0.473684</td>\n",
       "      <td>0.105263</td>\n",
       "    </tr>\n",
       "    <tr>\n",
       "      <th>1</th>\n",
       "      <td>1.0</td>\n",
       "      <td>0.000000</td>\n",
       "      <td>0.000000</td>\n",
       "      <td>0.000000</td>\n",
       "      <td>0.000000</td>\n",
       "      <td>0.000000</td>\n",
       "      <td>0.000000</td>\n",
       "    </tr>\n",
       "    <tr>\n",
       "      <th>2</th>\n",
       "      <td>0.0</td>\n",
       "      <td>0.000000</td>\n",
       "      <td>0.000000</td>\n",
       "      <td>1.000000</td>\n",
       "      <td>0.000000</td>\n",
       "      <td>0.000000</td>\n",
       "      <td>0.000000</td>\n",
       "    </tr>\n",
       "  </tbody>\n",
       "</table>\n",
       "</div>"
      ],
      "text/plain": [
       "loc        Boston  Copenhagen    London    Madrid      Oslo     Paris  \\\n",
       "community                                                               \n",
       "0             0.0    0.157895  0.052632  0.052632  0.157895  0.473684   \n",
       "1             1.0    0.000000  0.000000  0.000000  0.000000  0.000000   \n",
       "2             0.0    0.000000  0.000000  1.000000  0.000000  0.000000   \n",
       "\n",
       "loc            Rome  \n",
       "community            \n",
       "0          0.105263  \n",
       "1          0.000000  \n",
       "2          0.000000  "
      ]
     },
     "metadata": {},
     "output_type": "display_data"
    }
   ],
   "source": [
    "l = pd.crosstab(nodes['community'],nodes['loc'],normalize='index')\n",
    "l = l.rename(columns={1:'Boston',2:'London',3:'Paris',4:'Rome', \n",
    "                      5:'Madrid',6:'Oslo',7:'Copenhagen'})\n",
    "display(l)"
   ]
  },
  {
   "cell_type": "code",
   "execution_count": 210,
   "metadata": {},
   "outputs": [
    {
     "data": {
      "text/html": [
       "<div>\n",
       "<style scoped>\n",
       "    .dataframe tbody tr th:only-of-type {\n",
       "        vertical-align: middle;\n",
       "    }\n",
       "\n",
       "    .dataframe tbody tr th {\n",
       "        vertical-align: top;\n",
       "    }\n",
       "\n",
       "    .dataframe thead th {\n",
       "        text-align: right;\n",
       "    }\n",
       "</style>\n",
       "<table border=\"1\" class=\"dataframe\">\n",
       "  <thead>\n",
       "    <tr style=\"text-align: right;\">\n",
       "      <th></th>\n",
       "      <th>0</th>\n",
       "      <th>Europe</th>\n",
       "      <th>USA</th>\n",
       "    </tr>\n",
       "  </thead>\n",
       "  <tbody>\n",
       "    <tr>\n",
       "      <th>0</th>\n",
       "      <td>19</td>\n",
       "      <td>1.0</td>\n",
       "      <td>0.0</td>\n",
       "    </tr>\n",
       "    <tr>\n",
       "      <th>1</th>\n",
       "      <td>24</td>\n",
       "      <td>0.0</td>\n",
       "      <td>1.0</td>\n",
       "    </tr>\n",
       "    <tr>\n",
       "      <th>2</th>\n",
       "      <td>1</td>\n",
       "      <td>1.0</td>\n",
       "      <td>0.0</td>\n",
       "    </tr>\n",
       "  </tbody>\n",
       "</table>\n",
       "</div>"
      ],
      "text/plain": [
       "    0  Europe  USA\n",
       "0  19     1.0  0.0\n",
       "1  24     0.0  1.0\n",
       "2   1     1.0  0.0"
      ]
     },
     "execution_count": 210,
     "metadata": {},
     "output_type": "execute_result"
    }
   ],
   "source": [
    "comm_tab.merge(r,left_index = True, right_index = True)"
   ]
  },
  {
   "cell_type": "markdown",
   "metadata": {},
   "source": [
    "Community structures seem to be based on region (USA vs Europe). In line with working practices. Clustering coefficient should reflect that"
   ]
  },
  {
   "cell_type": "code",
   "execution_count": 211,
   "metadata": {},
   "outputs": [
    {
     "data": {
      "text/plain": [
       "0.5317647058823529"
      ]
     },
     "execution_count": 211,
     "metadata": {},
     "output_type": "execute_result"
    }
   ],
   "source": [
    "nx.transitivity(G)"
   ]
  },
  {
   "cell_type": "code",
   "execution_count": 212,
   "metadata": {},
   "outputs": [
    {
     "data": {
      "text/plain": [
       "0.27642706131078226"
      ]
     },
     "execution_count": 212,
     "metadata": {},
     "output_type": "execute_result"
    }
   ],
   "source": [
    "#density: team cohesion\n",
    "nx.density(G)"
   ]
  },
  {
   "cell_type": "code",
   "execution_count": 213,
   "metadata": {},
   "outputs": [
    {
     "data": {
      "text/plain": [
       "0.768642447418738"
      ]
     },
     "execution_count": 213,
     "metadata": {},
     "output_type": "execute_result"
    }
   ],
   "source": [
    "#reciprocity\n",
    "#low reciprocity = flow of info is one way (potentially hierarchical)\n",
    "#high reciprocity = mutual working relationship\n",
    "# import networkx.algorithms.reciprocity as r\n",
    "\n",
    "nx.reciprocity(G)"
   ]
  },
  {
   "cell_type": "code",
   "execution_count": 214,
   "metadata": {},
   "outputs": [
    {
     "data": {
      "text/plain": [
       "1.849894291754757"
      ]
     },
     "execution_count": 214,
     "metadata": {},
     "output_type": "execute_result"
    }
   ],
   "source": [
    "#average distance\n",
    "nx.average_shortest_path_length(G)"
   ]
  },
  {
   "cell_type": "markdown",
   "metadata": {},
   "source": [
    "# Monte Carlo (random)\n",
    "Hypothesis: density and reciprocity will be much smaller than random graph model?"
   ]
  },
  {
   "cell_type": "code",
   "execution_count": 60,
   "metadata": {},
   "outputs": [],
   "source": [
    "graph=G\n",
    "n=graph.number_of_nodes()\n",
    "\n",
    "#probability of edge creation (directed)\n",
    "p = graph.number_of_edges()/float(n*(n-1))\n",
    "rand_graphs = 999"
   ]
  },
  {
   "cell_type": "code",
   "execution_count": 61,
   "metadata": {},
   "outputs": [
    {
     "data": {
      "text/plain": [
       "0.27642706131078226"
      ]
     },
     "execution_count": 61,
     "metadata": {},
     "output_type": "execute_result"
    }
   ],
   "source": [
    "p #same as density"
   ]
  },
  {
   "cell_type": "code",
   "execution_count": 67,
   "metadata": {},
   "outputs": [
    {
     "name": "stdout",
     "output_type": "stream",
     "text": [
      "transitivity rank: 1000 , percentile: 1.0\n",
      "reciprocity rank: 1000 , percentile: 1.0\n",
      "average shortest path rank: 1000 , percentile: 1.0\n"
     ]
    }
   ],
   "source": [
    "t=[]\n",
    "r=[]\n",
    "s=[]\n",
    "\n",
    "#create random graphs\n",
    "for run in range(rand_graphs):\n",
    "    rand_G= nx.fast_gnp_random_graph(n,p, directed=True, seed=None) #Erdos renyi graph. Fix number of edges?\n",
    "    t.append(nx.transitivity(rand_G))\n",
    "    r.append(nx.reciprocity(rand_G))\n",
    "    s.append(nx.average_shortest_path_length(rand_G))\n",
    "\n",
    "graph_t=nx.transitivity(graph)\n",
    "graph_rec=nx.reciprocity(graph)\n",
    "graph_s=nx.average_shortest_path_length(graph)\n",
    "\n",
    "t.append(graph_t)\n",
    "r.append(graph_rec)\n",
    "s.append(graph_s)\n",
    "\n",
    "rank_t = sorted(t).index(graph_t) #lower\n",
    "rank_r = sorted(r).index(graph_rec) #higher\n",
    "rank_s = sorted(s).index(graph_s) #lower\n",
    "\n",
    "print('transitivity rank:', rank_t+1, ', percentile:', (rank_t+1)/(rand_graphs+1))\n",
    "print('reciprocity rank:', rank_r+1, ', percentile:', (rank_r+1)/(rand_graphs+1))\n",
    "print('average shortest path rank:', rank_s+1, ', percentile:', (rank_s+1)/(rand_graphs+1))\n"
   ]
  },
  {
   "cell_type": "code",
   "execution_count": 65,
   "metadata": {},
   "outputs": [
    {
     "data": {
      "image/png": "[encoded data removed]",
      "text/plain": [
       "<Figure size 432x288 with 1 Axes>"
      ]
     },
     "metadata": {
      "needs_background": "light"
     },
     "output_type": "display_data"
    }
   ],
   "source": [
    "plt.hist(t)\n",
    "plt.title('Transitivity distribution')\n",
    "plt.show()"
   ]
  },
  {
   "cell_type": "code",
   "execution_count": 39,
   "metadata": {},
   "outputs": [
    {
     "data": {
      "image/png": "[encoded data removed]",
      "text/plain": [
       "<Figure size 432x288 with 1 Axes>"
      ]
     },
     "metadata": {
      "needs_background": "light"
     },
     "output_type": "display_data"
    }
   ],
   "source": [
    "plt.hist(r)\n",
    "plt.title('Reciprocity distribution of Monte Carlo using random graph')\n",
    "plt.show()"
   ]
  },
  {
   "cell_type": "code",
   "execution_count": 66,
   "metadata": {},
   "outputs": [
    {
     "data": {
      "image/png": "[encoded data removed]",
      "text/plain": [
       "<Figure size 432x288 with 1 Axes>"
      ]
     },
     "metadata": {
      "needs_background": "light"
     },
     "output_type": "display_data"
    }
   ],
   "source": [
    "plt.hist(s)\n",
    "plt.title('Average shortest path distribution')\n",
    "plt.show()"
   ]
  },
  {
   "cell_type": "code",
   "execution_count": 40,
   "metadata": {},
   "outputs": [],
   "source": [
    "#what happens when changing the weight threshold?"
   ]
  },
  {
   "cell_type": "code",
   "execution_count": 41,
   "metadata": {},
   "outputs": [],
   "source": [
    "#check burt: what is a hierarchical structure??"
   ]
  },
  {
   "cell_type": "markdown",
   "metadata": {},
   "source": [
    "# Monte Carlo (conf model)\n",
    "\n",
    "Hypothesis: reciprocity will be much larger than random configuration model?\n",
    "\n",
    "Doesn't make sense to do density because if you are preserving degree sequence, density will always be the same."
   ]
  },
  {
   "cell_type": "code",
   "execution_count": 228,
   "metadata": {},
   "outputs": [],
   "source": [
    "graph=G\n",
    "n=graph.number_of_nodes()\n",
    "\n",
    "#in and out degree sequence\n",
    "din=list(dict(graph.in_degree()).values())\n",
    "dout=list(dict(graph.out_degree()).values())\n",
    "\n",
    "rand_graphs = 999"
   ]
  },
  {
   "cell_type": "code",
   "execution_count": 229,
   "metadata": {},
   "outputs": [
    {
     "name": "stdout",
     "output_type": "stream",
     "text": [
      "transitivity rank: 1000 , percentile: 1.0\n",
      "reciprocity rank: 1000 , percentile: 1.0\n",
      "average shortest path rank: 1000 , percentile: 1.0\n"
     ]
    }
   ],
   "source": [
    "t=[]\n",
    "r=[]\n",
    "s=[]\n",
    "#create random graphs\n",
    "for run in range(rand_graphs):\n",
    "    rand_G = nx.directed_configuration_model(in_degree_sequence=din, out_degree_sequence=dout, create_using=None, seed=None)\n",
    "    rand_G = nx.DiGraph(rand_G)\n",
    "    try:\n",
    "        s.append(nx.average_shortest_path_length(rand_G))\n",
    "    except:\n",
    "        #if the graph is disconnected, reinitialise a new graph. Part of the MC test for me is to only take connected graphs\n",
    "        rand_G = nx.directed_configuration_model(in_degree_sequence=din, out_degree_sequence=dout, create_using=None, seed=None)\n",
    "        rand_G = nx.DiGraph(rand_G)\n",
    "        s.append(nx.average_shortest_path_length(rand_G))\n",
    "        \n",
    "    t.append(nx.transitivity(rand_G))\n",
    "    r.append(nx.reciprocity(rand_G))\n",
    "    \n",
    "\n",
    "graph_t=nx.transitivity(graph)\n",
    "graph_rec=nx.reciprocity(graph)\n",
    "graph_s=nx.average_shortest_path_length(graph)\n",
    "\n",
    "t.append(graph_t)\n",
    "r.append(graph_rec)\n",
    "s.append(graph_s)\n",
    "\n",
    "rank_t = sorted(t).index(graph_t) #lower\n",
    "rank_r = sorted(r).index(graph_rec) #higher\n",
    "rank_s = sorted(s).index(graph_s) #lower\n",
    "\n",
    "print('transitivity rank:', rank_t+1, ', percentile:', (rank_t+1)/(rand_graphs+1))\n",
    "print('reciprocity rank:', rank_r+1, ', percentile:', (rank_r+1)/(rand_graphs+1))\n",
    "print('average shortest path rank:', rank_s+1, ', percentile:', (rank_s+1)/(rand_graphs+1))\n"
   ]
  },
  {
   "cell_type": "code",
   "execution_count": 156,
   "metadata": {},
   "outputs": [
    {
     "name": "stdout",
     "output_type": "stream",
     "text": [
      "1000 1000 1000\n"
     ]
    }
   ],
   "source": [
    "print(len(t),len(r),len(s))"
   ]
  },
  {
   "cell_type": "code",
   "execution_count": 240,
   "metadata": {},
   "outputs": [
    {
     "data": {
      "image/png": "[encoded data removed]",
      "text/plain": [
       "<Figure size 432x288 with 1 Axes>"
      ]
     },
     "metadata": {
      "needs_background": "light"
     },
     "output_type": "display_data"
    }
   ],
   "source": [
    "plt.hist(t, bins = 100)\n",
    "# plt.title('Transitivity distribution of Monte Carlo using configuration model')\n",
    "plt.xlabel('Transitivity')\n",
    "plt.ylabel('Count')\n",
    "# plt.xticks()\n",
    "plt.ylim(0,140)\n",
    "plt.savefig('figs/t_conf.png')\n",
    "plt.show()"
   ]
  },
  {
   "cell_type": "code",
   "execution_count": 241,
   "metadata": {},
   "outputs": [
    {
     "data": {
      "image/png": "[encoded data removed]",
      "text/plain": [
       "<Figure size 432x288 with 1 Axes>"
      ]
     },
     "metadata": {
      "needs_background": "light"
     },
     "output_type": "display_data"
    }
   ],
   "source": [
    "plt.hist(r, bins = 100)\n",
    "# plt.title('Reciprocity distribution of Monte Carlo using configuration model')\n",
    "plt.xlabel('Reciprocity')\n",
    "plt.ylabel('Count')\n",
    "plt.ylim(0,140)\n",
    "plt.savefig('figs/r_conf.png')\n",
    "plt.show()"
   ]
  },
  {
   "cell_type": "code",
   "execution_count": 244,
   "metadata": {},
   "outputs": [
    {
     "data": {
      "image/png": "[encoded data removed]",
      "text/plain": [
       "<Figure size 432x288 with 1 Axes>"
      ]
     },
     "metadata": {
      "needs_background": "light"
     },
     "output_type": "display_data"
    }
   ],
   "source": [
    "plt.hist(s, bins = 100)\n",
    "# plt.title('Average shortest path distribution of Monte Carlo using configuration model')\n",
    "plt.xlabel('Average shortest path')\n",
    "plt.ylabel('Count')\n",
    "plt.ylim(0,140)\n",
    "plt.savefig('figs/s_conf.png')\n",
    "plt.show()"
   ]
  },
  {
   "cell_type": "markdown",
   "metadata": {},
   "source": [
    "# Stochastic block model"
   ]
  },
  {
   "cell_type": "code",
   "execution_count": 245,
   "metadata": {},
   "outputs": [],
   "source": [
    "from collections import Counter"
   ]
  },
  {
   "cell_type": "code",
   "execution_count": 246,
   "metadata": {},
   "outputs": [
    {
     "name": "stdout",
     "output_type": "stream",
     "text": [
      "[[0.391812865497076, 0.017718715393133997, 0.002631578947368421], [0.02159468438538206, 0.572463768115942, 0.0], [0.002631578947368421, 0.0, 0]]\n"
     ]
    }
   ],
   "source": [
    "p = []\n",
    "\n",
    "for r in range(max(graph1Bet.values())+1):\n",
    "    edge_prob = []\n",
    "    for s in range(max(graph1Bet.values())+1):\n",
    "        cr_s = df[(df['community_x']==r) & (df['community_y']==s)]\n",
    "        cx = df_comm[df_comm['community']==r]['v']\n",
    "        cy = df_comm[df_comm['community']==s]['v']\n",
    "        n = len(set(list(cx)+list(cy)))\n",
    "        \n",
    "        if n == 1:\n",
    "            pr_s = 0\n",
    "        else:\n",
    "            pr_s = len(cr_s)/float(n*(n-1))\n",
    "#         print(r,s,pr_s)\n",
    "        edge_prob.append(pr_s)\n",
    "        \n",
    "#     print('\\n')\n",
    "    p.append(edge_prob)\n",
    "print(p)"
   ]
  },
  {
   "cell_type": "code",
   "execution_count": 247,
   "metadata": {},
   "outputs": [],
   "source": [
    "graph=G\n",
    "n=graph.number_of_nodes()\n",
    "\n",
    "#size of groups\n",
    "sizes = list(Counter(graph1Bet.values()).values())\n",
    "\n",
    "rand_graphs = 999 "
   ]
  },
  {
   "cell_type": "code",
   "execution_count": 248,
   "metadata": {},
   "outputs": [
    {
     "name": "stdout",
     "output_type": "stream",
     "text": [
      "transitivity rank: 990 , percentile: 0.99\n",
      "reciprocity rank: 1000 , percentile: 1.0\n",
      "average shortest path rank: 890 , percentile: 0.89\n"
     ]
    }
   ],
   "source": [
    "t=[]\n",
    "r=[]\n",
    "s=[]\n",
    "\n",
    "#create random graphs\n",
    "for run in range(rand_graphs):\n",
    "    rand_G= nxc.stochastic_block_model(sizes,p, directed=True, seed=None)\n",
    "    try:\n",
    "        s.append(nx.average_shortest_path_length(rand_G))\n",
    "    except:\n",
    "        #if the graph is disconnected, reinitialise a new graph. Part of the MC test for me is to only take connected graphs\n",
    "        rand_G = nx.directed_configuration_model(in_degree_sequence=din, out_degree_sequence=dout, create_using=None, seed=None)\n",
    "        rand_G = nx.DiGraph(rand_G)\n",
    "        try: #try again\n",
    "            s.append(nx.average_shortest_path_length(rand_G))\n",
    "        except:\n",
    "            #if the graph is disconnected, reinitialise a new graph. Part of the MC test for me is to only take connected graphs\n",
    "            rand_G = nx.directed_configuration_model(in_degree_sequence=din, out_degree_sequence=dout, create_using=None, seed=None)\n",
    "            rand_G = nx.DiGraph(rand_G)\n",
    "            s.append(nx.average_shortest_path_length(rand_G))\n",
    "\n",
    "    t.append(nx.transitivity(rand_G))\n",
    "    r.append(nx.reciprocity(rand_G))\n",
    "\n",
    "graph_t=nx.transitivity(graph)\n",
    "graph_rec=nx.reciprocity(graph)\n",
    "graph_s=nx.average_shortest_path_length(graph)\n",
    "\n",
    "t.append(graph_t)\n",
    "r.append(graph_rec)\n",
    "s.append(graph_s)\n",
    "\n",
    "rank_t = sorted(t).index(graph_t) #lower\n",
    "rank_r = sorted(r).index(graph_rec) #higher\n",
    "rank_s = sorted(s).index(graph_s) #lower\n",
    "\n",
    "print('transitivity rank:', rank_t+1, ', percentile:', (rank_t+1)/(rand_graphs+1))\n",
    "print('reciprocity rank:', rank_r+1, ', percentile:', (rank_r+1)/(rand_graphs+1))\n",
    "print('average shortest path rank:', rank_s+1, ', percentile:', (rank_s+1)/(rand_graphs+1))\n"
   ]
  },
  {
   "cell_type": "code",
   "execution_count": 150,
   "metadata": {},
   "outputs": [
    {
     "name": "stdout",
     "output_type": "stream",
     "text": [
      "1000 1000 1000\n"
     ]
    }
   ],
   "source": [
    "print(len(t),len(r),len(s))"
   ]
  },
  {
   "cell_type": "code",
   "execution_count": 259,
   "metadata": {},
   "outputs": [
    {
     "data": {
      "image/png": "[encoded data removed]",
      "text/plain": [
       "<Figure size 432x288 with 1 Axes>"
      ]
     },
     "metadata": {
      "needs_background": "light"
     },
     "output_type": "display_data"
    }
   ],
   "source": [
    "plt.hist(r, bins = 100)\n",
    "# plt.title('Reciprocity distribution of Monte Carlo using stochastic block model')\n",
    "plt.xlabel('Transitivity')\n",
    "plt.ylabel('Count')\n",
    "plt.ylim(0,200)\n",
    "plt.savefig('figs/r_block.png')\n",
    "plt.show()"
   ]
  },
  {
   "cell_type": "code",
   "execution_count": 258,
   "metadata": {},
   "outputs": [
    {
     "data": {
      "image/png": "[encoded data removed]",
      "text/plain": [
       "<Figure size 432x288 with 1 Axes>"
      ]
     },
     "metadata": {
      "needs_background": "light"
     },
     "output_type": "display_data"
    }
   ],
   "source": [
    "plt.hist(t, bins = 100)\n",
    "# plt.title('transitivity distribution of Monte Carlo using stochastic block model')\n",
    "plt.xlabel('Reciprocity')\n",
    "plt.ylabel('Count')\n",
    "plt.ylim(0,200)\n",
    "plt.savefig('figs/t_block.png')\n",
    "plt.show()"
   ]
  },
  {
   "cell_type": "code",
   "execution_count": 257,
   "metadata": {},
   "outputs": [
    {
     "data": {
      "image/png": "[encoded data removed]",
      "text/plain": [
       "<Figure size 432x288 with 1 Axes>"
      ]
     },
     "metadata": {
      "needs_background": "light"
     },
     "output_type": "display_data"
    }
   ],
   "source": [
    "plt.hist(s, bins = 100)\n",
    "# plt.title('Average shortest path distribution of Monte Carlo using stochastic block model')\n",
    "plt.xlabel('Average shortest path')\n",
    "plt.ylabel('Count')\n",
    "plt.ylim(0,200)\n",
    "plt.savefig('figs/s_block.png')\n",
    "plt.show()"
   ]
  },
  {
   "cell_type": "code",
   "execution_count": null,
   "metadata": {},
   "outputs": [],
   "source": []
  }
 ],
 "metadata": {
  "kernelspec": {
   "display_name": "Python 3",
   "language": "python",
   "name": "python3"
  },
  "language_info": {
   "codemirror_mode": {
    "name": "ipython",
    "version": 3
   },
   "file_extension": ".py",
   "mimetype": "text/x-python",
   "name": "python",
   "nbconvert_exporter": "python",
   "pygments_lexer": "ipython3",
   "version": "3.7.1"
  }
 },
 "nbformat": 4,
 "nbformat_minor": 2
}
